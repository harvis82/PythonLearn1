{
 "cells": [
  {
   "cell_type": "code",
   "execution_count": 1,
   "id": "e2bd6b95",
   "metadata": {},
   "outputs": [
    {
     "name": "stdout",
     "output_type": "stream",
     "text": [
      "helcflo\n"
     ]
    }
   ],
   "source": [
    "print (\"helcflo\")"
   ]
  },

  {
   "cell_type": "code",
   "execution_count": null,
   "id": "08ed8f1d",
   "metadata": {},
   "outputs": [],
   "source": []
  },
  {
   "cell_type": "code",
   "execution_count": null,
   "id": "83c12878",
   "metadata": {},
   "outputs": [],
   "source": []
  },
  {
   "cell_type": "code",
   "execution_count": null,
   "id": "d704f4a6",
   "metadata": {},
   "outputs": [],
   "source": []
  },
  {
   "cell_type": "code",
   "execution_count": null,
   "id": "4289d1e6",
   "metadata": {},
   "outputs": [],
   "source": []
  },
  {
   "cell_type": "markdown",
   "id": "22c4ebfd",
   "metadata": {},
   "source": [
    "# ccc"
   ]
  },
  {
   "cell_type": "raw",
   "id": "0f5acfec",
   "metadata": {},
   "source": [
    "zdcddfd"
   ]
  },
  {
   "cell_type": "markdown",
   "id": "2bc3b894",
   "metadata": {},
   "source": []
  }
 ],
 "metadata": {
  "kernelspec": {
   "display_name": "Python 3 (ipykernel)",
   "language": "python",
   "name": "python3"
  },
  "language_info": {
   "codemirror_mode": {
    "name": "ipython",
    "version": 3
   },
   "file_extension": ".py",
   "mimetype": "text/x-python",
   "name": "python",
   "nbconvert_exporter": "python",
   "pygments_lexer": "ipython3",
   "version": "3.11.4"
  }
 },
 "nbformat": 4,
 "nbformat_minor": 5
}
